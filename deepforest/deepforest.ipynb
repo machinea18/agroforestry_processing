{
 "cells": [
  {
   "cell_type": "code",
   "execution_count": 3,
   "id": "33749e13-ac7d-474b-9bd9-3568d3bd5ec1",
   "metadata": {},
   "outputs": [
    {
     "name": "stdout",
     "output_type": "stream",
     "text": [
      "Using pip 25.1 from C:\\Users\\am1355\\.conda\\envs\\deepfporest\\Lib\\site-packages\\pip (python 3.12)\n",
      "Collecting albumentations==1.4.24\n",
      "  Obtaining dependency information for albumentations==1.4.24 from https://files.pythonhosted.org/packages/af/ae/904b7bf58281d2bc1f3d6d48813bbcee742d1f8e3f9c0e1c451b0f67eb5a/albumentations-1.4.24-py3-none-any.whl.metadata\n",
      "  Using cached albumentations-1.4.24-py3-none-any.whl.metadata (37 kB)\n",
      "  Link requires a different Python (3.12.11 not in: '>=3.7,<3.11'): https://files.pythonhosted.org/packages/3a/be/650f9c091ef71cb01d735775d554e068752d3ff63d7943b26316dc401749/numpy-1.21.2.zip (from https://pypi.org/simple/numpy/) (requires-python:>=3.7,<3.11)\n",
      "  Link requires a different Python (3.12.11 not in: '>=3.7,<3.11'): https://files.pythonhosted.org/packages/5f/d6/ad58ded26556eaeaa8c971e08b6466f17c4ac4d786cd3d800e26ce59cc01/numpy-1.21.3.zip (from https://pypi.org/simple/numpy/) (requires-python:>=3.7,<3.11)\n",
      "  Link requires a different Python (3.12.11 not in: '>=3.7,<3.11'): https://files.pythonhosted.org/packages/fb/48/b0708ebd7718a8933f0d3937513ef8ef2f4f04529f1f66ca86d873043921/numpy-1.21.4.zip (from https://pypi.org/simple/numpy/) (requires-python:>=3.7,<3.11)\n",
      "  Link requires a different Python (3.12.11 not in: '>=3.7,<3.11'): https://files.pythonhosted.org/packages/c2/a8/a924a09492bdfee8c2ec3094d0a13f2799800b4fdc9c890738aeeb12c72e/numpy-1.21.5.zip (from https://pypi.org/simple/numpy/) (requires-python:>=3.7,<3.11)\n",
      "  Link requires a different Python (3.12.11 not in: '>=3.7,<3.11'): https://files.pythonhosted.org/packages/45/b7/de7b8e67f2232c26af57c205aaad29fe17754f793404f59c8a730c7a191a/numpy-1.21.6.zip (from https://pypi.org/simple/numpy/) (requires-python:>=3.7,<3.11)\n",
      "Collecting numpy>=1.24.4 (from albumentations==1.4.24)\n",
      "  Obtaining dependency information for numpy>=1.24.4 from https://files.pythonhosted.org/packages/b1/3e/e28f4c1dd9e042eb57a3eb652f200225e311b608632bc727ae378623d4f8/numpy-2.3.1-cp312-cp312-win_amd64.whl.metadata\n",
      "  Using cached numpy-2.3.1-cp312-cp312-win_amd64.whl.metadata (60 kB)\n",
      "  Link requires a different Python (3.12.11 not in: '>=3.7,<3.10'): https://files.pythonhosted.org/packages/99/f1/c00d6be56e1a718a3068079e3ec8ce044d7179345280f6a3f5066068af0d/scipy-1.6.2.tar.gz (from https://pypi.org/simple/scipy/) (requires-python:>=3.7,<3.10)\n",
      "  Link requires a different Python (3.12.11 not in: '>=3.7,<3.10'): https://files.pythonhosted.org/packages/fe/fd/8704c7b7b34cdac850485e638346025ca57c5a859934b9aa1be5399b33b7/scipy-1.6.3.tar.gz (from https://pypi.org/simple/scipy/) (requires-python:>=3.7,<3.10)\n",
      "  Link requires a different Python (3.12.11 not in: '>=3.7,<3.10'): https://files.pythonhosted.org/packages/bb/bb/944f559d554df6c9adf037aa9fc982a9706ee0e96c0d5beac701cb158900/scipy-1.7.0.tar.gz (from https://pypi.org/simple/scipy/) (requires-python:>=3.7,<3.10)\n",
      "  Link requires a different Python (3.12.11 not in: '>=3.7,<3.10'): https://files.pythonhosted.org/packages/47/33/a24aec22b7be7fdb10ec117a95e1e4099890d8bbc6646902f443fc7719d1/scipy-1.7.1.tar.gz (from https://pypi.org/simple/scipy/) (requires-python:>=3.7,<3.10)\n",
      "  Link requires a different Python (3.12.11 not in: '>=3.7,<3.11'): https://files.pythonhosted.org/packages/0e/23/58c4f995475a2a97cb5f4a032aedaf881ad87cd976a7180c55118d105a1d/scipy-1.7.2.tar.gz (from https://pypi.org/simple/scipy/) (requires-python:>=3.7,<3.11)\n",
      "  Link requires a different Python (3.12.11 not in: '>=3.7,<3.11'): https://files.pythonhosted.org/packages/61/67/1a654b96309c991762ee9bc39c363fc618076b155fe52d295211cf2536c7/scipy-1.7.3.tar.gz (from https://pypi.org/simple/scipy/) (requires-python:>=3.7,<3.11)\n",
      "  Link requires a different Python (3.12.11 not in: '>=3.8,<3.11'): https://files.pythonhosted.org/packages/c0/ad/e3c052ed4e0027a8abef0a5e8441a044427d252d17d9aee06d56e62fc698/scipy-1.8.0rc1.tar.gz (from https://pypi.org/simple/scipy/) (requires-python:>=3.8,<3.11)\n",
      "  Link requires a different Python (3.12.11 not in: '>=3.8,<3.11'): https://files.pythonhosted.org/packages/29/d2/151a54944b333e465f98804dced31dab1284f3c37b752b9cefa710b64681/scipy-1.8.0rc2.tar.gz (from https://pypi.org/simple/scipy/) (requires-python:>=3.8,<3.11)\n",
      "  Link requires a different Python (3.12.11 not in: '>=3.8,<3.11'): https://files.pythonhosted.org/packages/e4/26/83dd1c6378513a6241d984bda9f08c512b6e35fff13fba3acc1b3c195f02/scipy-1.8.0rc3.tar.gz (from https://pypi.org/simple/scipy/) (requires-python:>=3.8,<3.11)\n",
      "  Link requires a different Python (3.12.11 not in: '>=3.8,<3.11'): https://files.pythonhosted.org/packages/22/78/056cc43e7737811b6f50886788a940f852773dd9804f5365952805db9648/scipy-1.8.0rc4.tar.gz (from https://pypi.org/simple/scipy/) (requires-python:>=3.8,<3.11)\n",
      "  Link requires a different Python (3.12.11 not in: '>=3.8,<3.11'): https://files.pythonhosted.org/packages/b4/a2/4faa34bf0cdbefd5c706625f1234987795f368eb4e97bde9d6f46860843e/scipy-1.8.0.tar.gz (from https://pypi.org/simple/scipy/) (requires-python:>=3.8,<3.11)\n",
      "  Link requires a different Python (3.12.11 not in: '>=3.8,<3.11'): https://files.pythonhosted.org/packages/26/b5/9330f004b9a3b2b6a31f59f46f1617ce9ca15c0e7fe64288c20385a05c9d/scipy-1.8.1.tar.gz (from https://pypi.org/simple/scipy/) (requires-python:>=3.8,<3.11)\n",
      "  Link requires a different Python (3.12.11 not in: '>=3.8,<3.12'): https://files.pythonhosted.org/packages/87/82/8b9bf8bb8030f1eef281ad2af87cc648e06e4a4974c2b9201a57d991b12c/scipy-1.9.0rc1.tar.gz (from https://pypi.org/simple/scipy/) (requires-python:>=3.8,<3.12)\n",
      "  Link requires a different Python (3.12.11 not in: '>=3.8,<3.12'): https://files.pythonhosted.org/packages/5a/87/27f9ee75c32138d6eaabff2b91744c97a3fdbbbdd78948372dac93e0079f/scipy-1.9.0rc2.tar.gz (from https://pypi.org/simple/scipy/) (requires-python:>=3.8,<3.12)\n",
      "  Link requires a different Python (3.12.11 not in: '>=3.8,<3.12'): https://files.pythonhosted.org/packages/57/72/484c38e5b814b48b41ac6432ef69077f2e7c8094925d3ce17bc3d61359b0/scipy-1.9.0rc3.tar.gz (from https://pypi.org/simple/scipy/) (requires-python:>=3.8,<3.12)\n",
      "  Link requires a different Python (3.12.11 not in: '>=3.8,<3.12'): https://files.pythonhosted.org/packages/a8/e3/4ec401f609d34162b7023a09165da491630879e4cfa2336667fe2102cd06/scipy-1.9.0.tar.gz (from https://pypi.org/simple/scipy/) (requires-python:>=3.8,<3.12)\n",
      "  Link requires a different Python (3.12.11 not in: '>=3.8,<3.12'): https://files.pythonhosted.org/packages/db/af/16906139f52bc6866c43401869ce247662739ad71afa11c6f18505eb0546/scipy-1.9.1.tar.gz (from https://pypi.org/simple/scipy/) (requires-python:>=3.8,<3.12)\n",
      "  Link requires a different Python (3.12.11 not in: '<3.12,>=3.8'): https://files.pythonhosted.org/packages/a2/ce/2592c3b550cf8f68879d4ff2159f3c689ee6f032f8fc9059022074f7bd75/scipy-1.10.0rc1.tar.gz (from https://pypi.org/simple/scipy/) (requires-python:<3.12,>=3.8)\n",
      "  Link requires a different Python (3.12.11 not in: '<3.12,>=3.8'): https://files.pythonhosted.org/packages/6b/a3/7de758a32569e06877a6b298bdf7b529ce97a33c55deb2b1637b0162fd9d/scipy-1.10.0rc2.tar.gz (from https://pypi.org/simple/scipy/) (requires-python:<3.12,>=3.8)\n",
      "  Link requires a different Python (3.12.11 not in: '<3.12,>=3.8'): https://files.pythonhosted.org/packages/d6/bd/2d13a273d95f7b7d9903c906c486040b0aebb85e008f93a5dd0891f21f1f/scipy-1.10.0.tar.gz (from https://pypi.org/simple/scipy/) (requires-python:<3.12,>=3.8)\n",
      "  Link requires a different Python (3.12.11 not in: '<3.12,>=3.8'): https://files.pythonhosted.org/packages/84/a9/2bf119f3f9cff1f376f924e39cfae18dec92a1514784046d185731301281/scipy-1.10.1.tar.gz (from https://pypi.org/simple/scipy/) (requires-python:<3.12,>=3.8)\n",
      "Collecting scipy>=1.10.0 (from albumentations==1.4.24)\n",
      "  Obtaining dependency information for scipy>=1.10.0 from https://files.pythonhosted.org/packages/ea/b5/29fece1a74c6a94247f8a6fb93f5b28b533338e9c34fdcc9cfe7a939a767/scipy-1.16.0-cp312-cp312-win_amd64.whl.metadata\n",
      "  Using cached scipy-1.16.0-cp312-cp312-win_amd64.whl.metadata (60 kB)\n",
      "Collecting PyYAML (from albumentations==1.4.24)\n",
      "  Obtaining dependency information for PyYAML from https://files.pythonhosted.org/packages/0c/e8/4f648c598b17c3d06e8753d7d13d57542b30d56e6c2dedf9c331ae56312e/PyYAML-6.0.2-cp312-cp312-win_amd64.whl.metadata\n",
      "  Using cached PyYAML-6.0.2-cp312-cp312-win_amd64.whl.metadata (2.1 kB)\n",
      "Collecting pydantic>=2.9.2 (from albumentations==1.4.24)\n",
      "  Obtaining dependency information for pydantic>=2.9.2 from https://files.pythonhosted.org/packages/6a/c0/ec2b1c8712ca690e5d61979dee872603e92b8a32f94cc1b72d53beab008a/pydantic-2.11.7-py3-none-any.whl.metadata\n",
      "  Using cached pydantic-2.11.7-py3-none-any.whl.metadata (67 kB)\n",
      "Collecting albucore==0.0.23 (from albumentations==1.4.24)\n",
      "  Obtaining dependency information for albucore==0.0.23 from https://files.pythonhosted.org/packages/3d/de/4d9298befa6ae0f21230378f55100dca364816e3734028ca2766f2eca263/albucore-0.0.23-py3-none-any.whl.metadata\n",
      "  Using cached albucore-0.0.23-py3-none-any.whl.metadata (5.3 kB)\n",
      "Collecting opencv-python-headless>=4.9.0.80 (from albumentations==1.4.24)\n",
      "  Obtaining dependency information for opencv-python-headless>=4.9.0.80 from https://files.pythonhosted.org/packages/86/8a/69176a64335aed183529207ba8bc3d329c2999d852b4f3818027203f50e6/opencv_python_headless-4.11.0.86-cp37-abi3-win_amd64.whl.metadata\n",
      "  Using cached opencv_python_headless-4.11.0.86-cp37-abi3-win_amd64.whl.metadata (20 kB)\n",
      "Collecting stringzilla>=3.10.4 (from albucore==0.0.23->albumentations==1.4.24)\n",
      "  Obtaining dependency information for stringzilla>=3.10.4 from https://files.pythonhosted.org/packages/3b/33/48ccae51648650f3403d06e07c98826791b0a21d2b2c21eb65ea6d2e1f18/stringzilla-3.12.5-cp312-cp312-win_amd64.whl.metadata\n",
      "  Using cached stringzilla-3.12.5-cp312-cp312-win_amd64.whl.metadata (81 kB)\n",
      "Collecting simsimd>=5.9.2 (from albucore==0.0.23->albumentations==1.4.24)\n",
      "  Obtaining dependency information for simsimd>=5.9.2 from https://files.pythonhosted.org/packages/47/c0/3799e43c59726332ca9e5215f7794627d96aff75f37eabc9f2fb48b733c6/simsimd-6.4.9-cp312-cp312-win_amd64.whl.metadata\n",
      "  Using cached simsimd-6.4.9-cp312-cp312-win_amd64.whl.metadata (67 kB)\n",
      "Collecting annotated-types>=0.6.0 (from pydantic>=2.9.2->albumentations==1.4.24)\n",
      "  Obtaining dependency information for annotated-types>=0.6.0 from https://files.pythonhosted.org/packages/78/b6/6307fbef88d9b5ee7421e68d78a9f162e0da4900bc5f5793f6d3d0e34fb8/annotated_types-0.7.0-py3-none-any.whl.metadata\n",
      "  Using cached annotated_types-0.7.0-py3-none-any.whl.metadata (15 kB)\n",
      "Collecting pydantic-core==2.33.2 (from pydantic>=2.9.2->albumentations==1.4.24)\n",
      "  Obtaining dependency information for pydantic-core==2.33.2 from https://files.pythonhosted.org/packages/43/e4/5479fecb3606c1368d496a825d8411e126133c41224c1e7238be58b87d7e/pydantic_core-2.33.2-cp312-cp312-win_amd64.whl.metadata\n",
      "  Using cached pydantic_core-2.33.2-cp312-cp312-win_amd64.whl.metadata (6.9 kB)\n",
      "Collecting typing-extensions>=4.12.2 (from pydantic>=2.9.2->albumentations==1.4.24)\n",
      "  Obtaining dependency information for typing-extensions>=4.12.2 from https://files.pythonhosted.org/packages/69/e0/552843e0d356fbb5256d21449fa957fa4eff3bbc135a74a691ee70c7c5da/typing_extensions-4.14.0-py3-none-any.whl.metadata\n",
      "  Using cached typing_extensions-4.14.0-py3-none-any.whl.metadata (3.0 kB)\n",
      "Collecting typing-inspection>=0.4.0 (from pydantic>=2.9.2->albumentations==1.4.24)\n",
      "  Obtaining dependency information for typing-inspection>=0.4.0 from https://files.pythonhosted.org/packages/17/69/cd203477f944c353c31bade965f880aa1061fd6bf05ded0726ca845b6ff7/typing_inspection-0.4.1-py3-none-any.whl.metadata\n",
      "  Using cached typing_inspection-0.4.1-py3-none-any.whl.metadata (2.6 kB)\n",
      "Using cached albumentations-1.4.24-py3-none-any.whl (274 kB)\n",
      "Using cached albucore-0.0.23-py3-none-any.whl (14 kB)\n",
      "Using cached numpy-2.3.1-cp312-cp312-win_amd64.whl (12.7 MB)\n",
      "Using cached opencv_python_headless-4.11.0.86-cp37-abi3-win_amd64.whl (39.4 MB)\n",
      "Using cached pydantic-2.11.7-py3-none-any.whl (444 kB)\n",
      "Using cached pydantic_core-2.33.2-cp312-cp312-win_amd64.whl (2.0 MB)\n",
      "Using cached annotated_types-0.7.0-py3-none-any.whl (13 kB)\n",
      "Using cached scipy-1.16.0-cp312-cp312-win_amd64.whl (38.4 MB)\n",
      "Using cached simsimd-6.4.9-cp312-cp312-win_amd64.whl (95 kB)\n",
      "Using cached stringzilla-3.12.5-cp312-cp312-win_amd64.whl (80 kB)\n",
      "Using cached typing_extensions-4.14.0-py3-none-any.whl (43 kB)\n",
      "Using cached typing_inspection-0.4.1-py3-none-any.whl (14 kB)\n",
      "Using cached PyYAML-6.0.2-cp312-cp312-win_amd64.whl (156 kB)\n",
      "Installing collected packages: stringzilla, simsimd, typing-extensions, PyYAML, numpy, annotated-types, typing-inspection, scipy, pydantic-core, opencv-python-headless, pydantic, albucore, albumentations\n",
      "\n",
      "  Attempting uninstall: stringzilla\n",
      "\n",
      "    Found existing installation: stringzilla 3.12.5\n",
      "\n",
      "    Uninstalling stringzilla-3.12.5:\n",
      "\n",
      "   ----------------------------------------  0/13 [stringzilla]\n",
      "   ----------------------------------------  0/13 [stringzilla]\n",
      "      Removing file or directory c:\\users\\am1355\\.conda\\envs\\deepfporest\\lib\\site-packages\\cli\\\n",
      "   ----------------------------------------  0/13 [stringzilla]\n",
      "      Removing file or directory c:\\users\\am1355\\.conda\\envs\\deepfporest\\lib\\site-packages\\stringzilla-3.12.5.dist-info\\\n",
      "   ----------------------------------------  0/13 [stringzilla]\n",
      "      Removing file or directory c:\\users\\am1355\\.conda\\envs\\deepfporest\\lib\\site-packages\\stringzilla.cp312-win_amd64.pyd\n",
      "   ----------------------------------------  0/13 [stringzilla]\n",
      "      Removing file or directory c:\\users\\am1355\\.conda\\envs\\deepfporest\\scripts\\sz_split.exe\n",
      "   ----------------------------------------  0/13 [stringzilla]\n",
      "      Removing file or directory c:\\users\\am1355\\.conda\\envs\\deepfporest\\scripts\\sz_wc.exe\n",
      "   ----------------------------------------  0/13 [stringzilla]\n",
      "      Successfully uninstalled stringzilla-3.12.5\n",
      "   ----------------------------------------  0/13 [stringzilla]\n",
      "   ----------------------------------------  0/13 [stringzilla]\n",
      "   ----------------------------------------  0/13 [stringzilla]\n",
      "   ----------------------------------------  0/13 [stringzilla]\n",
      "   ----------------------------------------  0/13 [stringzilla]\n",
      "   ----------------------------------------  0/13 [stringzilla]\n",
      "   ----------------------------------------  0/13 [stringzilla]\n",
      "   ----------------------------------------  0/13 [stringzilla]\n",
      "   ----------------------------------------  0/13 [stringzilla]\n",
      "   ----------------------------------------  0/13 [stringzilla]\n",
      "   ----------------------------------------  0/13 [stringzilla]\n",
      "   ----------------------------------------  0/13 [stringzilla]\n",
      "   ----------------------------------------  0/13 [stringzilla]\n",
      "   ----------------------------------------  0/13 [stringzilla]\n",
      "   ----------------------------------------  0/13 [stringzilla]\n",
      "   ----------------------------------------  0/13 [stringzilla]\n",
      "   ----------------------------------------  0/13 [stringzilla]\n",
      "   ----------------------------------------  0/13 [stringzilla]\n",
      "   ----------------------------------------  0/13 [stringzilla]\n",
      "   ----------------------------------------  0/13 [stringzilla]\n",
      "  Attempting uninstall: simsimd\n",
      "   ----------------------------------------  0/13 [stringzilla]\n",
      "    Found existing installation: simsimd 6.4.9\n",
      "   ----------------------------------------  0/13 [stringzilla]\n",
      "    Uninstalling simsimd-6.4.9:\n",
      "   ----------------------------------------  0/13 [stringzilla]\n",
      "   --- ------------------------------------  1/13 [simsimd]\n",
      "   --- ------------------------------------  1/13 [simsimd]\n",
      "   --- ------------------------------------  1/13 [simsimd]\n",
      "      Removing file or directory c:\\users\\am1355\\.conda\\envs\\deepfporest\\lib\\site-packages\\simsimd-6.4.9.dist-info\\\n",
      "   --- ------------------------------------  1/13 [simsimd]\n",
      "      Removing file or directory c:\\users\\am1355\\.conda\\envs\\deepfporest\\lib\\site-packages\\simsimd.cp312-win_amd64.pyd\n",
      "   --- ------------------------------------  1/13 [simsimd]\n",
      "      Removing file or directory c:\\users\\am1355\\.conda\\envs\\deepfporest\\lib\\site-packages\\simsimd\\\n",
      "   --- ------------------------------------  1/13 [simsimd]\n",
      "      Successfully uninstalled simsimd-6.4.9\n",
      "   --- ------------------------------------  1/13 [simsimd]\n",
      "   --- ------------------------------------  1/13 [simsimd]\n",
      "   --- ------------------------------------  1/13 [simsimd]\n",
      "   --- ------------------------------------  1/13 [simsimd]\n",
      "   --- ------------------------------------  1/13 [simsimd]\n",
      "   --- ------------------------------------  1/13 [simsimd]\n",
      "   --- ------------------------------------  1/13 [simsimd]\n",
      "   --- ------------------------------------  1/13 [simsimd]\n",
      "   --- ------------------------------------  1/13 [simsimd]\n",
      "   --- ------------------------------------  1/13 [simsimd]\n",
      "   --- ------------------------------------  1/13 [simsimd]\n",
      "   --- ------------------------------------  1/13 [simsimd]\n",
      "   --- ------------------------------------  1/13 [simsimd]\n",
      "   --- ------------------------------------  1/13 [simsimd]\n",
      "   --- ------------------------------------  1/13 [simsimd]\n",
      "   --- ------------------------------------  1/13 [simsimd]\n",
      "   --- ------------------------------------  1/13 [simsimd]\n",
      "   --- ------------------------------------  1/13 [simsimd]\n",
      "   --- ------------------------------------  1/13 [simsimd]\n",
      "  Attempting uninstall: typing-extensions\n",
      "   --- ------------------------------------  1/13 [simsimd]\n",
      "    Found existing installation: typing_extensions 4.12.2\n",
      "   --- ------------------------------------  1/13 [simsimd]\n",
      "    Uninstalling typing_extensions-4.12.2:\n",
      "   --- ------------------------------------  1/13 [simsimd]\n",
      "   ------ ---------------------------------  2/13 [typing-extensions]\n",
      "   ------ ---------------------------------  2/13 [typing-extensions]\n",
      "      Removing file or directory c:\\users\\am1355\\.conda\\envs\\deepfporest\\lib\\site-packages\\__pycache__\\typing_extensions.cpython-312.pyc\n",
      "   ------ ---------------------------------  2/13 [typing-extensions]\n",
      "      Removing file or directory c:\\users\\am1355\\.conda\\envs\\deepfporest\\lib\\site-packages\\typing_extensions-4.12.2.dist-info\\\n",
      "   ------ ---------------------------------  2/13 [typing-extensions]\n",
      "      Removing file or directory c:\\users\\am1355\\.conda\\envs\\deepfporest\\lib\\site-packages\\typing_extensions.py\n",
      "   ------ ---------------------------------  2/13 [typing-extensions]\n",
      "      Successfully uninstalled typing_extensions-4.12.2\n",
      "   ------ ---------------------------------  2/13 [typing-extensions]\n",
      "   ------ ---------------------------------  2/13 [typing-extensions]\n",
      "  Attempting uninstall: PyYAML\n",
      "   ------ ---------------------------------  2/13 [typing-extensions]\n",
      "    Found existing installation: PyYAML 6.0.2\n",
      "   ------ ---------------------------------  2/13 [typing-extensions]\n",
      "    Uninstalling PyYAML-6.0.2:\n",
      "   ------ ---------------------------------  2/13 [typing-extensions]\n",
      "      Removing file or directory c:\\users\\am1355\\.conda\\envs\\deepfporest\\lib\\site-packages\\_yaml\\\n",
      "   ------ ---------------------------------  2/13 [typing-extensions]\n",
      "      Removing file or directory c:\\users\\am1355\\.conda\\envs\\deepfporest\\lib\\site-packages\\pyyaml-6.0.2.dist-info\\\n",
      "   ------ ---------------------------------  2/13 [typing-extensions]\n",
      "      Removing file or directory c:\\users\\am1355\\.conda\\envs\\deepfporest\\lib\\site-packages\\yaml\\\n",
      "   ------ ---------------------------------  2/13 [typing-extensions]\n",
      "      Successfully uninstalled PyYAML-6.0.2\n",
      "   ------ ---------------------------------  2/13 [typing-extensions]\n",
      "   --------- ------------------------------  3/13 [PyYAML]\n",
      "   --------- ------------------------------  3/13 [PyYAML]\n",
      "   --------- ------------------------------  3/13 [PyYAML]\n",
      "   --------- ------------------------------  3/13 [PyYAML]\n",
      "   --------- ------------------------------  3/13 [PyYAML]\n",
      "   --------- ------------------------------  3/13 [PyYAML]\n",
      "   --------- ------------------------------  3/13 [PyYAML]\n",
      "   --------- ------------------------------  3/13 [PyYAML]\n",
      "   --------- ------------------------------  3/13 [PyYAML]\n",
      "   --------- ------------------------------  3/13 [PyYAML]\n",
      "   --------- ------------------------------  3/13 [PyYAML]\n",
      "   --------- ------------------------------  3/13 [PyYAML]\n",
      "   --------- ------------------------------  3/13 [PyYAML]\n",
      "   --------- ------------------------------  3/13 [PyYAML]\n",
      "   --------- ------------------------------  3/13 [PyYAML]\n",
      "   --------- ------------------------------  3/13 [PyYAML]\n",
      "   --------- ------------------------------  3/13 [PyYAML]\n",
      "   --------- ------------------------------  3/13 [PyYAML]\n",
      "   --------- ------------------------------  3/13 [PyYAML]\n",
      "  Attempting uninstall: numpy\n",
      "   --------- ------------------------------  3/13 [PyYAML]\n",
      "    Found existing installation: numpy 2.3.1\n",
      "   --------- ------------------------------  3/13 [PyYAML]\n",
      "   ------------ ---------------------------  4/13 [numpy]\n",
      "    Uninstalling numpy-2.3.1:\n",
      "   ------------ ---------------------------  4/13 [numpy]\n",
      "      Removing file or directory c:\\users\\am1355\\.conda\\envs\\deepfporest\\lib\\site-packages\\numpy-2.3.1.dist-info\\\n",
      "   ------------ ---------------------------  4/13 [numpy]\n",
      "      Removing file or directory c:\\users\\am1355\\.conda\\envs\\deepfporest\\lib\\site-packages\\numpy.libs\\\n",
      "   ------------ ---------------------------  4/13 [numpy]\n",
      "      Removing file or directory c:\\users\\am1355\\.conda\\envs\\deepfporest\\lib\\site-packages\\numpy\\\n",
      "   ------------ ---------------------------  4/13 [numpy]\n",
      "      Removing file or directory c:\\users\\am1355\\.conda\\envs\\deepfporest\\scripts\\f2py.exe\n",
      "   ------------ ---------------------------  4/13 [numpy]\n",
      "      Removing file or directory c:\\users\\am1355\\.conda\\envs\\deepfporest\\scripts\\numpy-config.exe\n",
      "   ------------ ---------------------------  4/13 [numpy]\n",
      "      Successfully uninstalled numpy-2.3.1\n",
      "   ------------ ---------------------------  4/13 [numpy]\n",
      "   ------------ ---------------------------  4/13 [numpy]\n",
      "   ------------ ---------------------------  4/13 [numpy]\n",
      "   ------------ ---------------------------  4/13 [numpy]\n",
      "   ------------ ---------------------------  4/13 [numpy]\n",
      "   ------------ ---------------------------  4/13 [numpy]\n",
      "   ------------ ---------------------------  4/13 [numpy]\n",
      "   ------------ ---------------------------  4/13 [numpy]\n",
      "   ------------ ---------------------------  4/13 [numpy]\n",
      "   ------------ ---------------------------  4/13 [numpy]\n",
      "   ------------ ---------------------------  4/13 [numpy]\n",
      "   ------------ ---------------------------  4/13 [numpy]\n",
      "   ------------ ---------------------------  4/13 [numpy]\n",
      "   ------------ ---------------------------  4/13 [numpy]\n",
      "   ------------ ---------------------------  4/13 [numpy]\n",
      "   ------------ ---------------------------  4/13 [numpy]\n",
      "   ------------ ---------------------------  4/13 [numpy]\n",
      "   ------------ ---------------------------  4/13 [numpy]\n",
      "   ------------ ---------------------------  4/13 [numpy]\n",
      "   ------------ ---------------------------  4/13 [numpy]\n",
      "   ------------ ---------------------------  4/13 [numpy]\n",
      "   ------------ ---------------------------  4/13 [numpy]\n",
      "   ------------ ---------------------------  4/13 [numpy]\n",
      "   ------------ ---------------------------  4/13 [numpy]\n",
      "   ------------ ---------------------------  4/13 [numpy]\n",
      "   ------------ ---------------------------  4/13 [numpy]\n",
      "   ------------ ---------------------------  4/13 [numpy]\n",
      "   ------------ ---------------------------  4/13 [numpy]\n",
      "   ------------ ---------------------------  4/13 [numpy]\n",
      "   ------------ ---------------------------  4/13 [numpy]\n",
      "   ------------ ---------------------------  4/13 [numpy]\n",
      "   ------------ ---------------------------  4/13 [numpy]\n",
      "   ------------ ---------------------------  4/13 [numpy]\n",
      "   ------------ ---------------------------  4/13 [numpy]\n",
      "   ------------ ---------------------------  4/13 [numpy]\n",
      "   ------------ ---------------------------  4/13 [numpy]\n",
      "   ------------ ---------------------------  4/13 [numpy]\n",
      "   ------------ ---------------------------  4/13 [numpy]\n",
      "   ------------ ---------------------------  4/13 [numpy]\n",
      "   ------------ ---------------------------  4/13 [numpy]\n",
      "   ------------ ---------------------------  4/13 [numpy]\n",
      "   ------------ ---------------------------  4/13 [numpy]\n",
      "   ------------ ---------------------------  4/13 [numpy]\n",
      "   ------------ ---------------------------  4/13 [numpy]\n",
      "   ------------ ---------------------------  4/13 [numpy]\n",
      "   ------------ ---------------------------  4/13 [numpy]\n",
      "   ------------ ---------------------------  4/13 [numpy]\n",
      "   ------------ ---------------------------  4/13 [numpy]\n",
      "   ------------ ---------------------------  4/13 [numpy]\n",
      "   ------------ ---------------------------  4/13 [numpy]\n",
      "   ------------ ---------------------------  4/13 [numpy]\n",
      "   ------------ ---------------------------  4/13 [numpy]\n",
      "   ------------ ---------------------------  4/13 [numpy]\n",
      "   ------------ ---------------------------  4/13 [numpy]\n",
      "   ------------ ---------------------------  4/13 [numpy]\n",
      "   ------------ ---------------------------  4/13 [numpy]\n",
      "   ------------ ---------------------------  4/13 [numpy]\n",
      "   ------------ ---------------------------  4/13 [numpy]\n",
      "   ------------ ---------------------------  4/13 [numpy]\n",
      "   ------------ ---------------------------  4/13 [numpy]\n",
      "   ------------ ---------------------------  4/13 [numpy]\n",
      "   ------------ ---------------------------  4/13 [numpy]\n",
      "   ------------ ---------------------------  4/13 [numpy]\n",
      "   ------------ ---------------------------  4/13 [numpy]\n",
      "   ------------ ---------------------------  4/13 [numpy]\n",
      "   ------------ ---------------------------  4/13 [numpy]\n",
      "   ------------ ---------------------------  4/13 [numpy]\n",
      "   ------------ ---------------------------  4/13 [numpy]\n",
      "   ------------ ---------------------------  4/13 [numpy]\n",
      "   ------------ ---------------------------  4/13 [numpy]\n",
      "   ------------ ---------------------------  4/13 [numpy]\n",
      "   ------------ ---------------------------  4/13 [numpy]\n",
      "   ------------ ---------------------------  4/13 [numpy]\n",
      "   ------------ ---------------------------  4/13 [numpy]\n",
      "   ------------ ---------------------------  4/13 [numpy]\n",
      "   ------------ ---------------------------  4/13 [numpy]\n",
      "   ------------ ---------------------------  4/13 [numpy]\n",
      "   ------------ ---------------------------  4/13 [numpy]\n",
      "   ------------ ---------------------------  4/13 [numpy]\n",
      "   ------------ ---------------------------  4/13 [numpy]\n",
      "   ------------ ---------------------------  4/13 [numpy]\n",
      "   ------------ ---------------------------  4/13 [numpy]\n",
      "   ------------ ---------------------------  4/13 [numpy]\n",
      "   ------------ ---------------------------  4/13 [numpy]\n",
      "   ------------ ---------------------------  4/13 [numpy]\n",
      "   ------------ ---------------------------  4/13 [numpy]\n",
      "   ------------ ---------------------------  4/13 [numpy]\n",
      "   ------------ ---------------------------  4/13 [numpy]\n",
      "   ------------ ---------------------------  4/13 [numpy]\n",
      "   ------------ ---------------------------  4/13 [numpy]\n",
      "   ------------ ---------------------------  4/13 [numpy]\n",
      "   ------------ ---------------------------  4/13 [numpy]\n",
      "   ------------ ---------------------------  4/13 [numpy]\n",
      "   ------------ ---------------------------  4/13 [numpy]\n",
      "   ------------ ---------------------------  4/13 [numpy]\n",
      "   ------------ ---------------------------  4/13 [numpy]\n",
      "  Attempting uninstall: annotated-types\n",
      "   ------------ ---------------------------  4/13 [numpy]\n",
      "    Found existing installation: annotated-types 0.7.0\n",
      "   ------------ ---------------------------  4/13 [numpy]\n",
      "    Uninstalling annotated-types-0.7.0:\n",
      "   ------------ ---------------------------  4/13 [numpy]\n",
      "      Removing file or directory c:\\users\\am1355\\.conda\\envs\\deepfporest\\lib\\site-packages\\annotated_types-0.7.0.dist-info\\\n",
      "   ------------ ---------------------------  4/13 [numpy]\n",
      "      Removing file or directory c:\\users\\am1355\\.conda\\envs\\deepfporest\\lib\\site-packages\\annotated_types\\\n",
      "   ------------ ---------------------------  4/13 [numpy]\n",
      "      Successfully uninstalled annotated-types-0.7.0\n",
      "   ------------ ---------------------------  4/13 [numpy]\n",
      "   --------------- ------------------------  5/13 [annotated-types]\n",
      "  Attempting uninstall: typing-inspection\n",
      "   --------------- ------------------------  5/13 [annotated-types]\n",
      "    Found existing installation: typing-inspection 0.4.1\n",
      "   --------------- ------------------------  5/13 [annotated-types]\n",
      "    Uninstalling typing-inspection-0.4.1:\n",
      "   --------------- ------------------------  5/13 [annotated-types]\n",
      "      Removing file or directory c:\\users\\am1355\\.conda\\envs\\deepfporest\\lib\\site-packages\\typing_inspection-0.4.1.dist-info\\\n",
      "   --------------- ------------------------  5/13 [annotated-types]\n",
      "      Removing file or directory c:\\users\\am1355\\.conda\\envs\\deepfporest\\lib\\site-packages\\typing_inspection\\\n",
      "   --------------- ------------------------  5/13 [annotated-types]\n",
      "      Successfully uninstalled typing-inspection-0.4.1\n",
      "   --------------- ------------------------  5/13 [annotated-types]\n",
      "  Attempting uninstall: scipy\n",
      "   --------------- ------------------------  5/13 [annotated-types]\n",
      "    Found existing installation: scipy 1.16.0\n",
      "   --------------- ------------------------  5/13 [annotated-types]\n",
      "   --------------------- ------------------  7/13 [scipy]\n",
      "   --------------------- ------------------  7/13 [scipy]\n",
      "    Uninstalling scipy-1.16.0:\n",
      "   --------------------- ------------------  7/13 [scipy]\n",
      "   --------------------- ------------------  7/13 [scipy]\n",
      "   --------------------- ------------------  7/13 [scipy]\n",
      "   --------------------- ------------------  7/13 [scipy]\n",
      "      Removing file or directory c:\\users\\am1355\\.conda\\envs\\deepfporest\\lib\\site-packages\\scipy-1.16.0-cp312-cp312-win_amd64.whl\n",
      "   --------------------- ------------------  7/13 [scipy]\n",
      "      Removing file or directory c:\\users\\am1355\\.conda\\envs\\deepfporest\\lib\\site-packages\\scipy-1.16.0.dist-info\\\n",
      "   --------------------- ------------------  7/13 [scipy]\n",
      "      Removing file or directory c:\\users\\am1355\\.conda\\envs\\deepfporest\\lib\\site-packages\\scipy.libs\\\n",
      "   --------------------- ------------------  7/13 [scipy]\n",
      "      Removing file or directory c:\\users\\am1355\\.conda\\envs\\deepfporest\\lib\\site-packages\\scipy\\\n",
      "   --------------------- ------------------  7/13 [scipy]\n",
      "      Successfully uninstalled scipy-1.16.0\n",
      "   --------------------- ------------------  7/13 [scipy]\n",
      "   --------------------- ------------------  7/13 [scipy]\n",
      "   --------------------- ------------------  7/13 [scipy]\n",
      "   --------------------- ------------------  7/13 [scipy]\n",
      "   --------------------- ------------------  7/13 [scipy]\n",
      "   --------------------- ------------------  7/13 [scipy]\n",
      "   --------------------- ------------------  7/13 [scipy]\n",
      "   --------------------- ------------------  7/13 [scipy]\n",
      "   --------------------- ------------------  7/13 [scipy]\n",
      "   --------------------- ------------------  7/13 [scipy]\n",
      "   --------------------- ------------------  7/13 [scipy]\n",
      "   --------------------- ------------------  7/13 [scipy]\n",
      "   --------------------- ------------------  7/13 [scipy]\n",
      "   --------------------- ------------------  7/13 [scipy]\n",
      "   --------------------- ------------------  7/13 [scipy]\n",
      "   --------------------- ------------------  7/13 [scipy]\n",
      "   --------------------- ------------------  7/13 [scipy]\n",
      "   --------------------- ------------------  7/13 [scipy]\n",
      "   --------------------- ------------------  7/13 [scipy]\n",
      "   --------------------- ------------------  7/13 [scipy]\n",
      "   --------------------- ------------------  7/13 [scipy]\n",
      "   --------------------- ------------------  7/13 [scipy]\n",
      "   --------------------- ------------------  7/13 [scipy]\n",
      "   --------------------- ------------------  7/13 [scipy]\n",
      "   --------------------- ------------------  7/13 [scipy]\n",
      "   --------------------- ------------------  7/13 [scipy]\n",
      "   --------------------- ------------------  7/13 [scipy]\n",
      "   --------------------- ------------------  7/13 [scipy]\n",
      "   --------------------- ------------------  7/13 [scipy]\n",
      "   --------------------- ------------------  7/13 [scipy]\n",
      "   --------------------- ------------------  7/13 [scipy]\n",
      "   --------------------- ------------------  7/13 [scipy]\n",
      "   --------------------- ------------------  7/13 [scipy]\n",
      "   --------------------- ------------------  7/13 [scipy]\n",
      "   --------------------- ------------------  7/13 [scipy]\n",
      "   --------------------- ------------------  7/13 [scipy]\n",
      "   --------------------- ------------------  7/13 [scipy]\n",
      "   --------------------- ------------------  7/13 [scipy]\n",
      "   --------------------- ------------------  7/13 [scipy]\n",
      "   --------------------- ------------------  7/13 [scipy]\n",
      "   --------------------- ------------------  7/13 [scipy]\n",
      "   --------------------- ------------------  7/13 [scipy]\n",
      "   --------------------- ------------------  7/13 [scipy]\n",
      "   --------------------- ------------------  7/13 [scipy]\n",
      "   --------------------- ------------------  7/13 [scipy]\n",
      "   --------------------- ------------------  7/13 [scipy]\n",
      "   --------------------- ------------------  7/13 [scipy]\n",
      "   --------------------- ------------------  7/13 [scipy]\n",
      "   --------------------- ------------------  7/13 [scipy]\n",
      "   --------------------- ------------------  7/13 [scipy]\n",
      "   --------------------- ------------------  7/13 [scipy]\n",
      "   --------------------- ------------------  7/13 [scipy]\n",
      "   --------------------- ------------------  7/13 [scipy]\n",
      "   --------------------- ------------------  7/13 [scipy]\n",
      "   --------------------- ------------------  7/13 [scipy]\n",
      "   --------------------- ------------------  7/13 [scipy]\n",
      "   --------------------- ------------------  7/13 [scipy]\n",
      "   --------------------- ------------------  7/13 [scipy]\n",
      "   --------------------- ------------------  7/13 [scipy]\n",
      "   --------------------- ------------------  7/13 [scipy]\n",
      "   --------------------- ------------------  7/13 [scipy]\n",
      "   --------------------- ------------------  7/13 [scipy]\n",
      "   --------------------- ------------------  7/13 [scipy]\n",
      "   --------------------- ------------------  7/13 [scipy]\n",
      "   --------------------- ------------------  7/13 [scipy]\n",
      "   --------------------- ------------------  7/13 [scipy]\n",
      "   --------------------- ------------------  7/13 [scipy]\n",
      "   --------------------- ------------------  7/13 [scipy]\n",
      "   --------------------- ------------------  7/13 [scipy]\n",
      "   --------------------- ------------------  7/13 [scipy]\n",
      "   --------------------- ------------------  7/13 [scipy]\n",
      "   --------------------- ------------------  7/13 [scipy]\n",
      "   --------------------- ------------------  7/13 [scipy]\n",
      "   --------------------- ------------------  7/13 [scipy]\n",
      "   --------------------- ------------------  7/13 [scipy]\n",
      "   --------------------- ------------------  7/13 [scipy]\n",
      "   --------------------- ------------------  7/13 [scipy]\n",
      "   --------------------- ------------------  7/13 [scipy]\n",
      "   --------------------- ------------------  7/13 [scipy]\n",
      "   --------------------- ------------------  7/13 [scipy]\n",
      "   --------------------- ------------------  7/13 [scipy]\n",
      "   --------------------- ------------------  7/13 [scipy]\n",
      "   --------------------- ------------------  7/13 [scipy]\n",
      "   --------------------- ------------------  7/13 [scipy]\n",
      "   --------------------- ------------------  7/13 [scipy]\n",
      "   --------------------- ------------------  7/13 [scipy]\n",
      "   --------------------- ------------------  7/13 [scipy]\n",
      "   --------------------- ------------------  7/13 [scipy]\n",
      "   --------------------- ------------------  7/13 [scipy]\n",
      "   --------------------- ------------------  7/13 [scipy]\n",
      "   --------------------- ------------------  7/13 [scipy]\n",
      "   --------------------- ------------------  7/13 [scipy]\n",
      "   --------------------- ------------------  7/13 [scipy]\n",
      "   --------------------- ------------------  7/13 [scipy]\n",
      "   --------------------- ------------------  7/13 [scipy]\n",
      "   --------------------- ------------------  7/13 [scipy]\n",
      "   --------------------- ------------------  7/13 [scipy]\n",
      "   --------------------- ------------------  7/13 [scipy]\n",
      "   --------------------- ------------------  7/13 [scipy]\n",
      "   --------------------- ------------------  7/13 [scipy]\n",
      "   --------------------- ------------------  7/13 [scipy]\n",
      "   --------------------- ------------------  7/13 [scipy]\n",
      "   --------------------- ------------------  7/13 [scipy]\n",
      "   --------------------- ------------------  7/13 [scipy]\n",
      "   --------------------- ------------------  7/13 [scipy]\n",
      "   --------------------- ------------------  7/13 [scipy]\n",
      "   --------------------- ------------------  7/13 [scipy]\n",
      "   --------------------- ------------------  7/13 [scipy]\n",
      "   --------------------- ------------------  7/13 [scipy]\n",
      "   --------------------- ------------------  7/13 [scipy]\n",
      "   --------------------- ------------------  7/13 [scipy]\n",
      "   --------------------- ------------------  7/13 [scipy]\n",
      "   --------------------- ------------------  7/13 [scipy]\n",
      "   --------------------- ------------------  7/13 [scipy]\n",
      "   --------------------- ------------------  7/13 [scipy]\n",
      "   --------------------- ------------------  7/13 [scipy]\n",
      "   --------------------- ------------------  7/13 [scipy]\n",
      "   --------------------- ------------------  7/13 [scipy]\n",
      "   --------------------- ------------------  7/13 [scipy]\n",
      "   --------------------- ------------------  7/13 [scipy]\n",
      "   --------------------- ------------------  7/13 [scipy]\n",
      "   --------------------- ------------------  7/13 [scipy]\n",
      "   --------------------- ------------------  7/13 [scipy]\n",
      "   --------------------- ------------------  7/13 [scipy]\n",
      "   --------------------- ------------------  7/13 [scipy]\n",
      "   --------------------- ------------------  7/13 [scipy]\n",
      "   --------------------- ------------------  7/13 [scipy]\n",
      "   --------------------- ------------------  7/13 [scipy]\n",
      "   --------------------- ------------------  7/13 [scipy]\n",
      "   --------------------- ------------------  7/13 [scipy]\n",
      "   --------------------- ------------------  7/13 [scipy]\n",
      "   --------------------- ------------------  7/13 [scipy]\n",
      "   --------------------- ------------------  7/13 [scipy]\n",
      "   --------------------- ------------------  7/13 [scipy]\n",
      "   --------------------- ------------------  7/13 [scipy]\n",
      "   --------------------- ------------------  7/13 [scipy]\n",
      "   --------------------- ------------------  7/13 [scipy]\n",
      "   --------------------- ------------------  7/13 [scipy]\n",
      "   --------------------- ------------------  7/13 [scipy]\n",
      "   --------------------- ------------------  7/13 [scipy]\n",
      "   --------------------- ------------------  7/13 [scipy]\n",
      "   --------------------- ------------------  7/13 [scipy]\n",
      "   --------------------- ------------------  7/13 [scipy]\n",
      "   --------------------- ------------------  7/13 [scipy]\n",
      "   --------------------- ------------------  7/13 [scipy]\n",
      "   --------------------- ------------------  7/13 [scipy]\n",
      "   --------------------- ------------------  7/13 [scipy]\n",
      "   --------------------- ------------------  7/13 [scipy]\n",
      "   --------------------- ------------------  7/13 [scipy]\n",
      "   --------------------- ------------------  7/13 [scipy]\n",
      "   --------------------- ------------------  7/13 [scipy]\n",
      "   --------------------- ------------------  7/13 [scipy]\n",
      "   --------------------- ------------------  7/13 [scipy]\n",
      "   --------------------- ------------------  7/13 [scipy]\n",
      "   --------------------- ------------------  7/13 [scipy]\n",
      "   --------------------- ------------------  7/13 [scipy]\n",
      "   --------------------- ------------------  7/13 [scipy]\n",
      "   --------------------- ------------------  7/13 [scipy]\n",
      "   --------------------- ------------------  7/13 [scipy]\n",
      "   --------------------- ------------------  7/13 [scipy]\n",
      "   --------------------- ------------------  7/13 [scipy]\n",
      "   --------------------- ------------------  7/13 [scipy]\n",
      "   --------------------- ------------------  7/13 [scipy]\n",
      "   --------------------- ------------------  7/13 [scipy]\n",
      "   --------------------- ------------------  7/13 [scipy]\n",
      "   --------------------- ------------------  7/13 [scipy]\n",
      "   --------------------- ------------------  7/13 [scipy]\n",
      "  Attempting uninstall: pydantic-core\n",
      "   --------------------- ------------------  7/13 [scipy]\n",
      "    Found existing installation: pydantic_core 2.33.2\n",
      "   --------------------- ------------------  7/13 [scipy]\n",
      "    Uninstalling pydantic_core-2.33.2:\n",
      "   --------------------- ------------------  7/13 [scipy]\n",
      "      Removing file or directory c:\\users\\am1355\\.conda\\envs\\deepfporest\\lib\\site-packages\\pydantic_core-2.33.2.dist-info\\\n",
      "   --------------------- ------------------  7/13 [scipy]\n",
      "      Removing file or directory c:\\users\\am1355\\.conda\\envs\\deepfporest\\lib\\site-packages\\pydantic_core\\\n",
      "   --------------------- ------------------  7/13 [scipy]\n",
      "      Successfully uninstalled pydantic_core-2.33.2\n",
      "   --------------------- ------------------  7/13 [scipy]\n",
      "   ------------------------ ---------------  8/13 [pydantic-core]\n",
      "   ------------------------ ---------------  8/13 [pydantic-core]\n",
      "   ------------------------ ---------------  8/13 [pydantic-core]\n",
      "   ------------------------ ---------------  8/13 [pydantic-core]\n",
      "   ------------------------ ---------------  8/13 [pydantic-core]\n",
      "   ------------------------ ---------------  8/13 [pydantic-core]\n",
      "   ------------------------ ---------------  8/13 [pydantic-core]\n",
      "   ------------------------ ---------------  8/13 [pydantic-core]\n",
      "   ------------------------ ---------------  8/13 [pydantic-core]\n",
      "   ------------------------ ---------------  8/13 [pydantic-core]\n",
      "   ------------------------ ---------------  8/13 [pydantic-core]\n",
      "   ------------------------ ---------------  8/13 [pydantic-core]\n",
      "   ------------------------ ---------------  8/13 [pydantic-core]\n",
      "   ------------------------ ---------------  8/13 [pydantic-core]\n",
      "   ------------------------ ---------------  8/13 [pydantic-core]\n",
      "   ------------------------ ---------------  8/13 [pydantic-core]\n",
      "   ------------------------ ---------------  8/13 [pydantic-core]\n",
      "   ------------------------ ---------------  8/13 [pydantic-core]\n",
      "  Attempting uninstall: opencv-python-headless\n",
      "   ------------------------ ---------------  8/13 [pydantic-core]\n",
      "    Found existing installation: opencv-python-headless 4.11.0.86\n",
      "   ------------------------ ---------------  8/13 [pydantic-core]\n",
      "    Uninstalling opencv-python-headless-4.11.0.86:\n",
      "   ------------------------ ---------------  8/13 [pydantic-core]\n",
      "   --------------------------- ------------  9/13 [opencv-python-headless]\n",
      "      Removing file or directory c:\\users\\am1355\\.conda\\envs\\deepfporest\\lib\\site-packages\\cv2\\\n",
      "   --------------------------- ------------  9/13 [opencv-python-headless]\n",
      "      Removing file or directory c:\\users\\am1355\\.conda\\envs\\deepfporest\\lib\\site-packages\\opencv_python_headless-4.11.0.86.dist-info\\\n",
      "   --------------------------- ------------  9/13 [opencv-python-headless]\n",
      "      Successfully uninstalled opencv-python-headless-4.11.0.86\n",
      "   --------------------------- ------------  9/13 [opencv-python-headless]\n",
      "   --------------------------- ------------  9/13 [opencv-python-headless]\n",
      "   --------------------------- ------------  9/13 [opencv-python-headless]\n",
      "   --------------------------- ------------  9/13 [opencv-python-headless]\n",
      "   --------------------------- ------------  9/13 [opencv-python-headless]\n",
      "   --------------------------- ------------  9/13 [opencv-python-headless]\n",
      "   --------------------------- ------------  9/13 [opencv-python-headless]\n",
      "   --------------------------- ------------  9/13 [opencv-python-headless]\n",
      "   --------------------------- ------------  9/13 [opencv-python-headless]\n",
      "   --------------------------- ------------  9/13 [opencv-python-headless]\n",
      "   --------------------------- ------------  9/13 [opencv-python-headless]\n",
      "   --------------------------- ------------  9/13 [opencv-python-headless]\n",
      "   --------------------------- ------------  9/13 [opencv-python-headless]\n",
      "   --------------------------- ------------  9/13 [opencv-python-headless]\n",
      "   --------------------------- ------------  9/13 [opencv-python-headless]\n",
      "   --------------------------- ------------  9/13 [opencv-python-headless]\n",
      "   --------------------------- ------------  9/13 [opencv-python-headless]\n",
      "   --------------------------- ------------  9/13 [opencv-python-headless]\n",
      "   --------------------------- ------------  9/13 [opencv-python-headless]\n",
      "   --------------------------- ------------  9/13 [opencv-python-headless]\n",
      "   --------------------------- ------------  9/13 [opencv-python-headless]\n",
      "   --------------------------- ------------  9/13 [opencv-python-headless]\n",
      "   --------------------------- ------------  9/13 [opencv-python-headless]\n",
      "  Attempting uninstall: pydantic\n",
      "   --------------------------- ------------  9/13 [opencv-python-headless]\n",
      "    Found existing installation: pydantic 2.11.7\n",
      "   --------------------------- ------------  9/13 [opencv-python-headless]\n",
      "   ------------------------------ --------- 10/13 [pydantic]\n",
      "    Uninstalling pydantic-2.11.7:\n",
      "   ------------------------------ --------- 10/13 [pydantic]\n",
      "      Removing file or directory c:\\users\\am1355\\.conda\\envs\\deepfporest\\lib\\site-packages\\pydantic-2.11.7.dist-info\\\n",
      "   ------------------------------ --------- 10/13 [pydantic]\n",
      "      Removing file or directory c:\\users\\am1355\\.conda\\envs\\deepfporest\\lib\\site-packages\\pydantic\\\n",
      "   ------------------------------ --------- 10/13 [pydantic]\n",
      "      Successfully uninstalled pydantic-2.11.7\n",
      "   ------------------------------ --------- 10/13 [pydantic]\n",
      "   ------------------------------ --------- 10/13 [pydantic]\n",
      "   ------------------------------ --------- 10/13 [pydantic]\n",
      "   ------------------------------ --------- 10/13 [pydantic]\n",
      "   ------------------------------ --------- 10/13 [pydantic]\n",
      "   ------------------------------ --------- 10/13 [pydantic]\n",
      "   ------------------------------ --------- 10/13 [pydantic]\n",
      "   ------------------------------ --------- 10/13 [pydantic]\n",
      "   ------------------------------ --------- 10/13 [pydantic]\n",
      "   ------------------------------ --------- 10/13 [pydantic]\n",
      "   ------------------------------ --------- 10/13 [pydantic]\n",
      "   ------------------------------ --------- 10/13 [pydantic]\n",
      "   ------------------------------ --------- 10/13 [pydantic]\n",
      "   ------------------------------ --------- 10/13 [pydantic]\n",
      "  Attempting uninstall: albucore\n",
      "   ------------------------------ --------- 10/13 [pydantic]\n",
      "    Found existing installation: albucore 0.0.24\n",
      "   ------------------------------ --------- 10/13 [pydantic]\n",
      "    Uninstalling albucore-0.0.24:\n",
      "   ------------------------------ --------- 10/13 [pydantic]\n",
      "      Removing file or directory c:\\users\\am1355\\.conda\\envs\\deepfporest\\lib\\site-packages\\albucore-0.0.24.dist-info\\\n",
      "   ------------------------------ --------- 10/13 [pydantic]\n",
      "      Removing file or directory c:\\users\\am1355\\.conda\\envs\\deepfporest\\lib\\site-packages\\albucore\\\n",
      "   ------------------------------ --------- 10/13 [pydantic]\n",
      "      Successfully uninstalled albucore-0.0.24\n",
      "   ------------------------------ --------- 10/13 [pydantic]\n",
      "   --------------------------------- ------ 11/13 [albucore]\n",
      "  Attempting uninstall: albumentations\n",
      "   --------------------------------- ------ 11/13 [albucore]\n",
      "    Found existing installation: albumentations 2.0.8\n",
      "   --------------------------------- ------ 11/13 [albucore]\n",
      "    Uninstalling albumentations-2.0.8:\n",
      "   --------------------------------- ------ 11/13 [albucore]\n",
      "   ------------------------------------ --- 12/13 [albumentations]\n",
      "      Removing file or directory c:\\users\\am1355\\.conda\\envs\\deepfporest\\lib\\site-packages\\albumentations-2.0.8.dist-info\\\n",
      "   ------------------------------------ --- 12/13 [albumentations]\n",
      "      Removing file or directory c:\\users\\am1355\\.conda\\envs\\deepfporest\\lib\\site-packages\\albumentations\\\n",
      "   ------------------------------------ --- 12/13 [albumentations]\n",
      "      Successfully uninstalled albumentations-2.0.8\n",
      "   ------------------------------------ --- 12/13 [albumentations]\n",
      "   ------------------------------------ --- 12/13 [albumentations]\n",
      "   ------------------------------------ --- 12/13 [albumentations]\n",
      "   ------------------------------------ --- 12/13 [albumentations]\n",
      "   ------------------------------------ --- 12/13 [albumentations]\n",
      "   ------------------------------------ --- 12/13 [albumentations]\n",
      "   ------------------------------------ --- 12/13 [albumentations]\n",
      "   ------------------------------------ --- 12/13 [albumentations]\n",
      "   ------------------------------------ --- 12/13 [albumentations]\n",
      "   ---------------------------------------- 13/13 [albumentations]\n",
      "\n",
      "Successfully installed PyYAML-6.0.2 albucore-0.0.23 albumentations-1.4.24 annotated-types-0.7.0 numpy-2.3.1 opencv-python-headless-4.11.0.86 pydantic-2.11.7 pydantic-core-2.33.2 scipy-1.16.0 simsimd-6.4.9 stringzilla-3.12.5 typing-extensions-4.14.0 typing-inspection-0.4.1\n"
     ]
    },
    {
     "name": "stderr",
     "output_type": "stream",
     "text": [
      "  WARNING: Failed to remove contents in a temporary directory 'C:\\Users\\am1355\\AppData\\Local\\Temp\\pip-uninstall-28vi6beg'.\n",
      "  You can safely remove it manually.\n",
      "  WARNING: Failed to remove contents in a temporary directory 'C:\\Users\\am1355\\AppData\\Local\\Temp\\pip-uninstall-4fe1hphm'.\n",
      "  You can safely remove it manually.\n",
      "  WARNING: Failed to remove contents in a temporary directory 'C:\\Users\\am1355\\.conda\\envs\\deepfporest\\Lib\\site-packages\\~aml'.\n",
      "  You can safely remove it manually.\n",
      "  WARNING: Failed to remove contents in a temporary directory 'C:\\Users\\am1355\\.conda\\envs\\deepfporest\\Lib\\site-packages\\~umpy.libs'.\n",
      "  You can safely remove it manually.\n",
      "  WARNING: Failed to remove contents in a temporary directory 'C:\\Users\\am1355\\.conda\\envs\\deepfporest\\Lib\\site-packages\\~umpy'.\n",
      "  You can safely remove it manually.\n",
      "  WARNING: Failed to remove contents in a temporary directory 'C:\\Users\\am1355\\.conda\\envs\\deepfporest\\Lib\\site-packages\\~cipy.libs'.\n",
      "  You can safely remove it manually.\n",
      "  WARNING: Failed to remove contents in a temporary directory 'C:\\Users\\am1355\\.conda\\envs\\deepfporest\\Lib\\site-packages\\~cipy'.\n",
      "  You can safely remove it manually.\n",
      "  WARNING: Failed to remove contents in a temporary directory 'C:\\Users\\am1355\\.conda\\envs\\deepfporest\\Lib\\site-packages\\~ydantic_core'.\n",
      "  You can safely remove it manually.\n",
      "  WARNING: Failed to remove contents in a temporary directory 'C:\\Users\\am1355\\.conda\\envs\\deepfporest\\Lib\\site-packages\\~v2'.\n",
      "  You can safely remove it manually.\n",
      "ERROR: pip's dependency resolver does not currently take into account all the packages that are installed. This behaviour is the source of the following dependency conflicts.\n",
      "tensorboard 2.19.0 requires markdown>=2.6.8, which is not installed.\n",
      "tensorboard 2.19.0 requires protobuf!=4.24.0,>=3.19.6, which is not installed.\n",
      "tensorboard 2.19.0 requires werkzeug>=1.0.1, which is not installed.\n"
     ]
    },
    {
     "name": "stdout",
     "output_type": "stream",
     "text": [
      "Using pip 25.1 from C:\\Users\\am1355\\.conda\\envs\\deepfporest\\Lib\\site-packages\\pip (python 3.12)\n",
      "Collecting markdown==3.8.2\n",
      "  Obtaining dependency information for markdown==3.8.2 from https://files.pythonhosted.org/packages/96/2b/34cc11786bc00d0f04d0f5fdc3a2b1ae0b6239eef72d3d345805f9ad92a1/markdown-3.8.2-py3-none-any.whl.metadata\n",
      "  Downloading markdown-3.8.2-py3-none-any.whl.metadata (5.1 kB)\n",
      "Downloading markdown-3.8.2-py3-none-any.whl (106 kB)\n",
      "Installing collected packages: markdown\n",
      "Successfully installed markdown-3.8.2\n"
     ]
    },
    {
     "name": "stderr",
     "output_type": "stream",
     "text": [
      "ERROR: pip's dependency resolver does not currently take into account all the packages that are installed. This behaviour is the source of the following dependency conflicts.\n",
      "tensorboard 2.19.0 requires protobuf!=4.24.0,>=3.19.6, which is not installed.\n",
      "tensorboard 2.19.0 requires werkzeug>=1.0.1, which is not installed.\n"
     ]
    },
    {
     "name": "stdout",
     "output_type": "stream",
     "text": [
      "Using pip 25.1 from C:\\Users\\am1355\\.conda\\envs\\deepfporest\\Lib\\site-packages\\pip (python 3.12)\n",
      "Collecting protobuf==6.31.1\n",
      "  Obtaining dependency information for protobuf==6.31.1 from https://files.pythonhosted.org/packages/44/3a/b15c4347dd4bf3a1b0ee882f384623e2063bb5cf9fa9d57990a4f7df2fb6/protobuf-6.31.1-cp310-abi3-win_amd64.whl.metadata\n",
      "  Downloading protobuf-6.31.1-cp310-abi3-win_amd64.whl.metadata (593 bytes)\n",
      "Downloading protobuf-6.31.1-cp310-abi3-win_amd64.whl (435 kB)\n",
      "Installing collected packages: protobuf\n",
      "Successfully installed protobuf-6.31.1\n"
     ]
    },
    {
     "name": "stderr",
     "output_type": "stream",
     "text": [
      "ERROR: pip's dependency resolver does not currently take into account all the packages that are installed. This behaviour is the source of the following dependency conflicts.\n",
      "tensorboard 2.19.0 requires werkzeug>=1.0.1, which is not installed.\n"
     ]
    },
    {
     "name": "stdout",
     "output_type": "stream",
     "text": [
      "Using pip 25.1 from C:\\Users\\am1355\\.conda\\envs\\deepfporest\\Lib\\site-packages\\pip (python 3.12)\n",
      "Collecting werkzeug==3.1.3\n",
      "  Obtaining dependency information for werkzeug==3.1.3 from https://files.pythonhosted.org/packages/52/24/ab44c871b0f07f491e5d2ad12c9bd7358e527510618cb1b803a88e986db1/werkzeug-3.1.3-py3-none-any.whl.metadata\n",
      "  Using cached werkzeug-3.1.3-py3-none-any.whl.metadata (3.7 kB)\n",
      "Collecting MarkupSafe>=2.1.1 (from werkzeug==3.1.3)\n",
      "  Obtaining dependency information for MarkupSafe>=2.1.1 from https://files.pythonhosted.org/packages/c1/80/a61f99dc3a936413c3ee4e1eecac96c0da5ed07ad56fd975f1a9da5bc630/MarkupSafe-3.0.2-cp312-cp312-win_amd64.whl.metadata\n",
      "  Using cached MarkupSafe-3.0.2-cp312-cp312-win_amd64.whl.metadata (4.1 kB)\n",
      "Using cached werkzeug-3.1.3-py3-none-any.whl (224 kB)\n",
      "Using cached MarkupSafe-3.0.2-cp312-cp312-win_amd64.whl (15 kB)\n",
      "Installing collected packages: MarkupSafe, werkzeug\n",
      "\n",
      "  Attempting uninstall: MarkupSafe\n",
      "\n",
      "    Found existing installation: MarkupSafe 3.0.2\n",
      "\n",
      "    Uninstalling MarkupSafe-3.0.2:\n",
      "\n",
      "      Removing file or directory c:\\users\\am1355\\.conda\\envs\\deepfporest\\lib\\site-packages\\markupsafe-3.0.2.dist-info\\\n",
      "\n",
      "      Removing file or directory c:\\users\\am1355\\.conda\\envs\\deepfporest\\lib\\site-packages\\markupsafe\\\n",
      "\n",
      "      Successfully uninstalled MarkupSafe-3.0.2\n",
      "\n",
      "   ---------------------------------------- 0/2 [MarkupSafe]\n",
      "   ---------------------------------------- 0/2 [MarkupSafe]\n",
      "   ---------------------------------------- 0/2 [MarkupSafe]\n",
      "   ---------------------------------------- 0/2 [MarkupSafe]\n",
      "   ---------------------------------------- 0/2 [MarkupSafe]\n",
      "   ---------------------------------------- 0/2 [MarkupSafe]\n",
      "   ---------------------------------------- 0/2 [MarkupSafe]\n",
      "   ---------------------------------------- 0/2 [MarkupSafe]\n",
      "   ---------------------------------------- 0/2 [MarkupSafe]\n",
      "   ---------------------------------------- 0/2 [MarkupSafe]\n",
      "   ---------------------------------------- 0/2 [MarkupSafe]\n",
      "   ---------------------------------------- 0/2 [MarkupSafe]\n",
      "   ---------------------------------------- 0/2 [MarkupSafe]\n",
      "   ---------------------------------------- 0/2 [MarkupSafe]\n",
      "   ---------------------------------------- 0/2 [MarkupSafe]\n",
      "   ---------------------------------------- 0/2 [MarkupSafe]\n",
      "   ---------------------------------------- 0/2 [MarkupSafe]\n",
      "   -------------------- ------------------- 1/2 [werkzeug]\n",
      "   -------------------- ------------------- 1/2 [werkzeug]\n",
      "   -------------------- ------------------- 1/2 [werkzeug]\n",
      "   -------------------- ------------------- 1/2 [werkzeug]\n",
      "   -------------------- ------------------- 1/2 [werkzeug]\n",
      "   -------------------- ------------------- 1/2 [werkzeug]\n",
      "   ---------------------------------------- 2/2 [werkzeug]\n",
      "\n",
      "Successfully installed MarkupSafe-3.0.2 werkzeug-3.1.3\n"
     ]
    },
    {
     "name": "stderr",
     "output_type": "stream",
     "text": [
      "  WARNING: Failed to remove contents in a temporary directory 'C:\\Users\\am1355\\.conda\\envs\\deepfporest\\Lib\\site-packages\\~arkupsafe'.\n",
      "  You can safely remove it manually.\n"
     ]
    }
   ],
   "source": [
    "#fixing dependency issues above\n",
    "!pip3 install --force-reinstall -v \"albumentations==1.4.24\" \n",
    "!pip3 install --force-reinstall -v \"markdown==3.8.2\"\n",
    "!pip3 install --force-reinstall -v \"protobuf==6.31.1\"\n",
    "!pip3 install --force-reinstall -v \"werkzeug==3.1.3\"\n",
    "#these version are necessary do not change them"
   ]
  },
  {
   "cell_type": "code",
   "execution_count": null,
   "id": "12664255-8177-4eca-9d09-52877a6502a1",
   "metadata": {},
   "outputs": [],
   "source": [
    "#testing\n",
    "from deepforest import main\n",
    "from deepforest import get_data\n",
    "from deepforest.visualize import plot_results\n",
    "import matplotlib.pyplot as plt\n",
    "from deepforest.utilities import boxes_to_shapefile\n",
    "# Initialize the model class\n",
    "model = main.deepforest()\n",
    "\n",
    "# Load a pretrained tree detection model from Hugging Face\n",
    "model.load_model(model_name=\"weecology/deepforest-tree\", revision=\"main\")\n",
    "\n",
    "#checking if this works before trying i t on my own\n",
    "sample_image_path = get_data(\"OSBS_029.png\")\n",
    "img = model.predict_image(path=sample_image_path)\n",
    "plot_results(img)\n",
    "\n",
    "#note this will give package warnings but doesn't work if you update them"
   ]
  },
  {
   "cell_type": "code",
   "execution_count": null,
   "id": "7f150190-a76d-4658-8e40-5980c6d31705",
   "metadata": {},
   "outputs": [
    {
     "name": "stdout",
     "output_type": "stream",
     "text": [
      "Reading config file: C:\\Users\\am1355\\.conda\\envs\\deepfporest\\Lib\\site-packages\\deepforest\\data\\deepforest_config.yml\n"
     ]
    },
    {
     "name": "stderr",
     "output_type": "stream",
     "text": [
      "GPU available: False, used: False\n",
      "TPU available: False, using: 0 TPU cores\n",
      "HPU available: False, using: 0 HPUs\n"
     ]
    },
    {
     "name": "stdout",
     "output_type": "stream",
     "text": [
      "Reading config file: C:\\Users\\am1355\\.conda\\envs\\deepfporest\\Lib\\site-packages\\deepforest\\data\\deepforest_config.yml\n"
     ]
    },
    {
     "name": "stderr",
     "output_type": "stream",
     "text": [
      "GPU available: False, used: False\n",
      "TPU available: False, using: 0 TPU cores\n",
      "HPU available: False, using: 0 HPUs\n"
     ]
    },
    {
     "data": {
      "application/vnd.jupyter.widget-view+json": {
       "model_id": "65030e153a0c40538c813f8db18dbf17",
       "version_major": 2,
       "version_minor": 0
      },
      "text/plain": [
       "Predicting: |          | 0/? [00:00<?, ?it/s]"
      ]
     },
     "metadata": {},
     "output_type": "display_data"
    }
   ],
   "source": [
    "#trying this myself\n",
    "from deepforest.utilities import boxes_to_shapefile\n",
    "from deepforest import main\n",
    "from deepforest import get_data\n",
    "from deepforest.visualize import plot_results\n",
    "import matplotlib.pyplot as plt\n",
    "# Initialize the model class\n",
    "model = main.deepforest()\n",
    "\n",
    "# Load a pretrained tree detection model from Hugging Face\n",
    "model.load_model(model_name=\"weecology/deepforest-tree\", revision=\"main\")\n",
    "\n",
    "raster_path = get_data(\"C:/Users/am1355/OneDrive - University of Leicester/Publications/Thesis/ch2/data/study_sites/RGB_images/wakelyns_RGB.tif\")\n",
    "# Window size of 300px with an overlap of 25% among windows for this small tile.\n",
    "predicted_raster = model.predict_tile(raster_path, return_plot = False, patch_size=400,patch_overlap=0.05)\n",
    "\n",
    "#saving this\n",
    "shp = boxes_to_shapefile(predicted_raster, root_dir=\"C:/Users/am1355/OneDrive - University of Leicester/Publications/Thesis/ch2/data/study_sites/RGB_images\", projected=True)\n",
    "shp.to_file(\"C:/Users/am1355/OneDrive - University of Leicester/Publications/Thesis/ch2/data/study_sites/RGB_images/wakelyns_trees.gpkg\")\n",
    "#plot_results(predicted_raster)"
   ]
  },
  {
   "cell_type": "code",
   "execution_count": null,
   "id": "8673715d-f569-4be6-b2e3-01002e25cd2c",
   "metadata": {},
   "outputs": [],
   "source": [
    "#for whitehall\n",
    "from deepforest import main\n",
    "from deepforest.utilities import boxes_to_shapefile\n",
    "from deepforest import get_data\n",
    "from deepforest.visualize import plot_results\n",
    "import matplotlib.pyplot as plt\n",
    "# Initialize the model class\n",
    "model = main.deepforest()\n",
    "\n",
    "# Load a pretrained tree detection model from Hugging Face\n",
    "model.load_model(model_name=\"weecology/deepforest-tree\", revision=\"main\")\n",
    "\n",
    "raster_path = get_data(\"C:/Users/am1355/OneDrive - University of Leicester/Publications/Thesis/ch2/data/study_sites/RGB_images/whitehall_RGB.tif\")\n",
    "# Window size of 300px with an overlap of 25% among windows for this small tile.\n",
    "predicted_raster = model.predict_tile(raster_path, return_plot = False, patch_size=400,patch_overlap=0.05)\n",
    "\n",
    "#saving this\n",
    "shp = boxes_to_shapefile(predicted_raster, root_dir=\"C:/Users/am1355/OneDrive - University of Leicester/Publications/Thesis/ch2/data/study_sites/RGB_images\", projected=True)\n",
    "shp.to_file(\"C:/Users/am1355/OneDrive - University of Leicester/Publications/Thesis/ch2/data/study_sites/RGB_images/whitehall_trees.gpkg\")\n",
    "#plot_results(predicted_raster)"
   ]
  },
  {
   "cell_type": "code",
   "execution_count": 3,
   "id": "486d36e0-3d32-45f5-89ed-c6c8633af513",
   "metadata": {},
   "outputs": [
    {
     "data": {
      "application/vnd.jupyter.widget-view+json": {
       "model_id": "a917f7bc9dad4bf3b04cea582973d417",
       "version_major": 2,
       "version_minor": 0
      },
      "text/plain": [
       "Predicting: |                                                                                    | 0/? [00:00<…"
      ]
     },
     "metadata": {},
     "output_type": "display_data"
    },
    {
     "name": "stdout",
     "output_type": "stream",
     "text": [
      "14496 predictions in overlapping windows, applying non-max supression\n",
      "12432 predictions kept after non-max suppression\n"
     ]
    }
   ],
   "source": [
    "#shropshire\n",
    "\n",
    "raster_path = get_data(\"C:/Users/am1355/OneDrive - University of Leicester/Publications/Thesis/ch2/data/study_sites/RGB_images/shropshire_RGB.tif\")\n",
    "# Window size of 300px with an overlap of 25% among windows for this small tile.\n",
    "predicted_raster = model.predict_tile(raster_path, return_plot = False, patch_size=400,patch_overlap=0.05)\n",
    "\n",
    "#saving this\n",
    "shp = boxes_to_shapefile(predicted_raster, root_dir=\"C:/Users/am1355/OneDrive - University of Leicester/Publications/Thesis/ch2/data/study_sites/RGB_images\", projected=True)\n",
    "shp.to_file(\"C:/Users/am1355/OneDrive - University of Leicester/Publications/Thesis/ch2/data/study_sites/RGB_images/shropshire_trees.gpkg\")\n",
    "#plot_results(predicted_raster)"
   ]
  },
  {
   "cell_type": "code",
   "execution_count": 3,
   "id": "762244f7-1770-4f98-93e6-8b4821951636",
   "metadata": {},
   "outputs": [
    {
     "data": {
      "application/vnd.jupyter.widget-view+json": {
       "model_id": "a9252b06b4424e80a5fe90a3afe6873c",
       "version_major": 2,
       "version_minor": 0
      },
      "text/plain": [
       "Predicting: |                                                                                    | 0/? [00:00<…"
      ]
     },
     "metadata": {},
     "output_type": "display_data"
    },
    {
     "name": "stdout",
     "output_type": "stream",
     "text": [
      "13987 predictions in overlapping windows, applying non-max supression\n",
      "12455 predictions kept after non-max suppression\n"
     ]
    }
   ],
   "source": [
    "#wesemlett\n",
    "raster_path = get_data(\"C:/Users/am1355/OneDrive - University of Leicester/Publications/Thesis/ch2/data/study_sites/RGB_images/wesemlett_RGB.tif\")\n",
    "# Window size of 300px with an overlap of 25% among windows for this small tile.\n",
    "predicted_raster = model.predict_tile(raster_path, return_plot = False, patch_size=400,patch_overlap=0.05)\n",
    "\n",
    "#saving this\n",
    "shp = boxes_to_shapefile(predicted_raster, root_dir=\"C:/Users/am1355/OneDrive - University of Leicester/Publications/Thesis/ch2/data/study_sites/RGB_images\", projected=True)\n",
    "shp.to_file(\"C:/Users/am1355/OneDrive - University of Leicester/Publications/Thesis/ch2/data/study_sites/RGB_images/wesemlett_trees.gpkg\")\n",
    "#plot_results(predicted_raster)"
   ]
  },
  {
   "cell_type": "code",
   "execution_count": 4,
   "id": "15992655-bab9-4432-8296-5009b33e2bee",
   "metadata": {},
   "outputs": [
    {
     "data": {
      "application/vnd.jupyter.widget-view+json": {
       "model_id": "32e44b16e23b41368563d626ed86b0f7",
       "version_major": 2,
       "version_minor": 0
      },
      "text/plain": [
       "Predicting: |                                                                                    | 0/? [00:00<…"
      ]
     },
     "metadata": {},
     "output_type": "display_data"
    },
    {
     "name": "stdout",
     "output_type": "stream",
     "text": [
      "8163 predictions in overlapping windows, applying non-max supression\n",
      "7501 predictions kept after non-max suppression\n"
     ]
    }
   ],
   "source": [
    "#threehagges\n",
    "raster_path = get_data(\"C:/Users/am1355/OneDrive - University of Leicester/Publications/Thesis/ch2/data/study_sites/RGB_images/threehagges_RGB.tif\")\n",
    "# Window size of 300px with an overlap of 25% among windows for this small tile.\n",
    "predicted_raster = model.predict_tile(raster_path, return_plot = False, patch_size=400,patch_overlap=0.05)\n",
    "\n",
    "#saving this\n",
    "shp = boxes_to_shapefile(predicted_raster, root_dir=\"C:/Users/am1355/OneDrive - University of Leicester/Publications/Thesis/ch2/data/study_sites/RGB_images\", projected=True)\n",
    "shp.to_file(\"C:/Users/am1355/OneDrive - University of Leicester/Publications/Thesis/ch2/data/study_sites/RGB_images/threehagges_trees.gpkg\")\n",
    "#plot_results(predicted_raster)"
   ]
  },
  {
   "cell_type": "code",
   "execution_count": 6,
   "id": "a336141b-bda3-4598-b92a-fbe44f3c2fc6",
   "metadata": {},
   "outputs": [
    {
     "data": {
      "application/vnd.jupyter.widget-view+json": {
       "model_id": "fd73f3f174064ac98d642286036791c2",
       "version_major": 2,
       "version_minor": 0
      },
      "text/plain": [
       "Predicting: |                                                                                    | 0/? [00:00<…"
      ]
     },
     "metadata": {},
     "output_type": "display_data"
    },
    {
     "name": "stdout",
     "output_type": "stream",
     "text": [
      "17219 predictions in overlapping windows, applying non-max supression\n",
      "15023 predictions kept after non-max suppression\n"
     ]
    }
   ],
   "source": [
    "#hillcombe\n",
    "raster_path = get_data(\"C:/Users/am1355/OneDrive - University of Leicester/Publications/Thesis/ch2/data/study_sites/RGB_images/hillcoombe_RGB.tif\")\n",
    "# Window size of 300px with an overlap of 25% among windows for this small tile.\n",
    "predicted_raster = model.predict_tile(raster_path, return_plot = False, patch_size=400,patch_overlap=0.05)\n",
    "\n",
    "#saving this\n",
    "shp = boxes_to_shapefile(predicted_raster, root_dir=\"C:/Users/am1355/OneDrive - University of Leicester/Publications/Thesis/ch2/data/study_sites/RGB_images\", projected=True)\n",
    "shp.to_file(\"C:/Users/am1355/OneDrive - University of Leicester/Publications/Thesis/ch2/data/study_sites/RGB_images/hillcombe_trees.gpkg\")\n",
    "#plot_results(predicted_raster)"
   ]
  },
  {
   "cell_type": "code",
   "execution_count": 8,
   "id": "90441d69-e62f-4120-92bd-2b96bedac687",
   "metadata": {},
   "outputs": [
    {
     "data": {
      "application/vnd.jupyter.widget-view+json": {
       "model_id": "88280d4c32534c48b7438ed228fe0133",
       "version_major": 2,
       "version_minor": 0
      },
      "text/plain": [
       "Predicting: |                                                                                    | 0/? [00:00<…"
      ]
     },
     "metadata": {},
     "output_type": "display_data"
    },
    {
     "name": "stdout",
     "output_type": "stream",
     "text": [
      "3721 predictions in overlapping windows, applying non-max supression\n",
      "3190 predictions kept after non-max suppression\n"
     ]
    }
   ],
   "source": [
    "#loughgall\n",
    "raster_path = get_data(\"C:/Users/am1355/OneDrive - University of Leicester/Publications/Thesis/ch2/data/study_sites/RGB_images/loughgall_RGB.tif\")\n",
    "# Window size of 300px with an overlap of 25% among windows for this small tile.\n",
    "predicted_raster = model.predict_tile(raster_path, return_plot = False, patch_size=400,patch_overlap=0.05)\n",
    "\n",
    "#saving this\n",
    "shp = boxes_to_shapefile(predicted_raster, root_dir=\"C:/Users/am1355/OneDrive - University of Leicester/Publications/Thesis/ch2/data/study_sites/RGB_images\", projected=True)\n",
    "shp.to_file(\"C:/Users/am1355/OneDrive - University of Leicester/Publications/Thesis/ch2/data/study_sites/RGB_images/loughgall_trees.gpkg\")\n",
    "#plot_results(predicted_raster)"
   ]
  },
  {
   "cell_type": "code",
   "execution_count": 9,
   "id": "6a526f61-896e-4c1a-b98e-7cbe46d61cba",
   "metadata": {},
   "outputs": [
    {
     "data": {
      "application/vnd.jupyter.widget-view+json": {
       "model_id": "c2697f9a4f8941cea7079f09b102bcf9",
       "version_major": 2,
       "version_minor": 0
      },
      "text/plain": [
       "Predicting: |                                                                                    | 0/? [00:00<…"
      ]
     },
     "metadata": {},
     "output_type": "display_data"
    },
    {
     "name": "stdout",
     "output_type": "stream",
     "text": [
      "787 predictions in overlapping windows, applying non-max supression\n",
      "685 predictions kept after non-max suppression\n"
     ]
    }
   ],
   "source": [
    "#henfaes\n",
    "raster_path = get_data(\"C:/Users/am1355/OneDrive - University of Leicester/Publications/Thesis/ch2/data/study_sites/RGB_images/henfaes_RGB.tif\")\n",
    "# Window size of 300px with an overlap of 25% among windows for this small tile.\n",
    "predicted_raster = model.predict_tile(raster_path, return_plot = False, patch_size=400,patch_overlap=0.05)\n",
    "\n",
    "#saving this\n",
    "shp = boxes_to_shapefile(predicted_raster, root_dir=\"C:/Users/am1355/OneDrive - University of Leicester/Publications/Thesis/ch2/data/study_sites/RGB_images\", projected=True)\n",
    "shp.to_file(\"C:/Users/am1355/OneDrive - University of Leicester/Publications/Thesis/ch2/data/study_sites/RGB_images/henfaes_trees.gpkg\")\n",
    "#plot_results(predicted_raster)"
   ]
  },
  {
   "cell_type": "code",
   "execution_count": 10,
   "id": "fcc0d924-e53e-4399-9c0e-869032a1b74d",
   "metadata": {},
   "outputs": [
    {
     "data": {
      "application/vnd.jupyter.widget-view+json": {
       "model_id": "5920601ad3fe4c02848833d816c951cb",
       "version_major": 2,
       "version_minor": 0
      },
      "text/plain": [
       "Predicting: |                                                                                    | 0/? [00:00<…"
      ]
     },
     "metadata": {},
     "output_type": "display_data"
    },
    {
     "name": "stdout",
     "output_type": "stream",
     "text": [
      "19552 predictions in overlapping windows, applying non-max supression\n",
      "16412 predictions kept after non-max suppression\n"
     ]
    }
   ],
   "source": [
    "#glensaugh\n",
    "raster_path = get_data(\"C:/Users/am1355/OneDrive - University of Leicester/Publications/Thesis/ch2/data/study_sites/RGB_images/glensaugh_RGB.tif\")\n",
    "# Window size of 300px with an overlap of 25% among windows for this small tile.\n",
    "predicted_raster = model.predict_tile(raster_path, return_plot = False, patch_size=400,patch_overlap=0.05)\n",
    "\n",
    "#saving this\n",
    "shp = boxes_to_shapefile(predicted_raster, root_dir=\"C:/Users/am1355/OneDrive - University of Leicester/Publications/Thesis/ch2/data/study_sites/RGB_images\", projected=True)\n",
    "shp.to_file(\"C:/Users/am1355/OneDrive - University of Leicester/Publications/Thesis/ch2/data/study_sites/RGB_images/glensaugh_trees.gpkg\")\n",
    "#plot_results(predicted_raster)"
   ]
  },
  {
   "cell_type": "code",
   "execution_count": 11,
   "id": "03dafcd7-f609-4d77-b231-541000bc765c",
   "metadata": {},
   "outputs": [
    {
     "data": {
      "application/vnd.jupyter.widget-view+json": {
       "model_id": "f0c6b231a4da446391d2f755bcf02464",
       "version_major": 2,
       "version_minor": 0
      },
      "text/plain": [
       "Predicting: |                                                                                    | 0/? [00:00<…"
      ]
     },
     "metadata": {},
     "output_type": "display_data"
    },
    {
     "name": "stdout",
     "output_type": "stream",
     "text": [
      "10199 predictions in overlapping windows, applying non-max supression\n",
      "8873 predictions kept after non-max suppression\n"
     ]
    }
   ],
   "source": [
    "#farmED\n",
    "raster_path = get_data(\"C:/Users/am1355/OneDrive - University of Leicester/Publications/Thesis/ch2/data/study_sites/RGB_images/FarmED_RGB.tif\")\n",
    "# Window size of 300px with an overlap of 25% among windows for this small tile.\n",
    "predicted_raster = model.predict_tile(raster_path, return_plot = False, patch_size=400,patch_overlap=0.05)\n",
    "\n",
    "#saving this\n",
    "shp = boxes_to_shapefile(predicted_raster, root_dir=\"C:/Users/am1355/OneDrive - University of Leicester/Publications/Thesis/ch2/data/study_sites/RGB_images\", projected=True)\n",
    "shp.to_file(\"C:/Users/am1355/OneDrive - University of Leicester/Publications/Thesis/ch2/data/study_sites/RGB_images/FarmED_trees.gpkg\")\n",
    "#plot_results(predicted_raster)"
   ]
  },
  {
   "cell_type": "code",
   "execution_count": 12,
   "id": "be236d79-e7d3-46bf-84a1-48803db3b3a3",
   "metadata": {},
   "outputs": [
    {
     "data": {
      "application/vnd.jupyter.widget-view+json": {
       "model_id": "64366548d0ca42f18c1dd87c9f99a973",
       "version_major": 2,
       "version_minor": 0
      },
      "text/plain": [
       "Predicting: |                                                                                    | 0/? [00:00<…"
      ]
     },
     "metadata": {},
     "output_type": "display_data"
    },
    {
     "name": "stdout",
     "output_type": "stream",
     "text": [
      "32094 predictions in overlapping windows, applying non-max supression\n",
      "28519 predictions kept after non-max suppression\n"
     ]
    }
   ],
   "source": [
    "#dartington\n",
    "raster_path = get_data(\"C:/Users/am1355/OneDrive - University of Leicester/Publications/Thesis/ch2/data/study_sites/RGB_images/Dartington_RGB.tif\")\n",
    "# Window size of 300px with an overlap of 25% among windows for this small tile.\n",
    "predicted_raster = model.predict_tile(raster_path, return_plot = False, patch_size=400,patch_overlap=0.05)\n",
    "\n",
    "#saving this\n",
    "shp = boxes_to_shapefile(predicted_raster, root_dir=\"C:/Users/am1355/OneDrive - University of Leicester/Publications/Thesis/ch2/data/study_sites/RGB_images\", projected=True)\n",
    "shp.to_file(\"C:/Users/am1355/OneDrive - University of Leicester/Publications/Thesis/ch2/data/study_sites/RGB_images/Dartington_trees.gpkg\")\n",
    "#plot_results(predicted_raster)"
   ]
  },
  {
   "cell_type": "code",
   "execution_count": 13,
   "id": "f39304bb-40eb-4862-b6a3-d9692742b6a1",
   "metadata": {},
   "outputs": [
    {
     "data": {
      "application/vnd.jupyter.widget-view+json": {
       "model_id": "3782278fa897484c89764de151cfa201",
       "version_major": 2,
       "version_minor": 0
      },
      "text/plain": [
       "Predicting: |                                                                                    | 0/? [00:00<…"
      ]
     },
     "metadata": {},
     "output_type": "display_data"
    },
    {
     "name": "stdout",
     "output_type": "stream",
     "text": [
      "7079 predictions in overlapping windows, applying non-max supression\n",
      "6396 predictions kept after non-max suppression\n"
     ]
    }
   ],
   "source": [
    "#carbonneutral\n",
    "raster_path = get_data(\"C:/Users/am1355/OneDrive - University of Leicester/Publications/Thesis/ch2/data/study_sites/RGB_images/carbonneutral_RGB.tif\")\n",
    "# Window size of 300px with an overlap of 25% among windows for this small tile.\n",
    "predicted_raster = model.predict_tile(raster_path, return_plot = False, patch_size=400,patch_overlap=0.05)\n",
    "\n",
    "#saving this\n",
    "shp = boxes_to_shapefile(predicted_raster, root_dir=\"C:/Users/am1355/OneDrive - University of Leicester/Publications/Thesis/ch2/data/study_sites/RGB_images\", projected=True)\n",
    "shp.to_file(\"C:/Users/am1355/OneDrive - University of Leicester/Publications/Thesis/ch2/data/study_sites/RGB_images/carbonneutral_trees.gpkg\")\n",
    "#plot_results(predicted_raster)"
   ]
  },
  {
   "cell_type": "code",
   "execution_count": 14,
   "id": "ec6f8cb5-b7ce-42f8-baff-e46e24eafa3d",
   "metadata": {
    "scrolled": true
   },
   "outputs": [
    {
     "data": {
      "application/vnd.jupyter.widget-view+json": {
       "model_id": "a26be1f723544287a8420412119933a0",
       "version_major": 2,
       "version_minor": 0
      },
      "text/plain": [
       "Predicting: |                                                                                    | 0/? [00:00<…"
      ]
     },
     "metadata": {},
     "output_type": "display_data"
    },
    {
     "name": "stdout",
     "output_type": "stream",
     "text": [
      "7201 predictions in overlapping windows, applying non-max supression\n",
      "6208 predictions kept after non-max suppression\n"
     ]
    }
   ],
   "source": [
    "#toshapefile\n",
    "import geopandas as gpd\n",
    "from shapely.geometry import box\n",
    "raster_path = get_data(\"C:/Users/am1355/OneDrive - University of Leicester/Publications/Thesis/ch2/data/study_sites/RGB_images/wakelyns_RGB.tif\")\n",
    "predicted_boxes = model.predict_tile(raster_path, \n",
    "                                       return_plot = False, \n",
    "                                       patch_size=400,\n",
    "                                       patch_overlap=0.05)\n",
    "# DeepForest returns xmin, ymin, xmax, ymax, label, score\n",
    "geometry = [box(row['xmin'], row['ymin'], row['xmax'], row['ymax']) for idx, row in predicted_boxes.iterrows()]\n",
    "gdf = gpd.GeoDataFrame(predicted_boxes, geometry=geometry, crs=\"EPSG:27700\")  #BNG\n",
    "\n",
    "# Save as shapefile\n",
    "output_path = \"C:/Users/am1355/Documents/wakelyns_trees.shp\"\n",
    "gdf.to_file(output_path)\n",
    "\n",
    "\n"
   ]
  },
  {
   "cell_type": "code",
   "execution_count": 17,
   "id": "7ae15370-4d32-461c-9f5f-24aed2e085fe",
   "metadata": {},
   "outputs": [
    {
     "data": {
      "application/vnd.jupyter.widget-view+json": {
       "model_id": "d5e7384af0784b31ad46923763586c36",
       "version_major": 2,
       "version_minor": 0
      },
      "text/plain": [
       "Predicting: |                                                                                    | 0/? [00:00<…"
      ]
     },
     "metadata": {},
     "output_type": "display_data"
    },
    {
     "name": "stdout",
     "output_type": "stream",
     "text": [
      "7201 predictions in overlapping windows, applying non-max supression\n",
      "6208 predictions kept after non-max suppression\n"
     ]
    }
   ],
   "source": [
    "predicted_boxes = model.predict_tile(raster_path, \n",
    "                                       return_plot = False, \n",
    "                                       patch_size=400,\n",
    "                                       patch_overlap=0.05)"
   ]
  },
  {
   "cell_type": "code",
   "execution_count": 2,
   "id": "e5e911f5-1b5b-4549-9772-f05082088a1f",
   "metadata": {},
   "outputs": [],
   "source": [
    "shp = boxes_to_shapefile(predicted_raster, root_dir=\"C:/Users/am1355/OneDrive - University of Leicester/Publications/Thesis/ch2/data/study_sites/RGB_images\", projected=True)\n",
    "shp.to_file(\"C:/Users/am1355/OneDrive - University of Leicester/Publications/Thesis/ch2/data/study_sites/RGB_images/whitehall_trees.gpkg\")\n",
    "#plot_results(predicted_raster)"
   ]
  },
  {
   "cell_type": "code",
   "execution_count": 21,
   "id": "9a10b188-935f-41a6-91f8-7ec20a443648",
   "metadata": {},
   "outputs": [],
   "source": [
    "from deepforest.utilities import boxes_to_shapefile\n",
    "shp = boxes_to_shapefile(predicted_boxes, root_dir=\"C:/Users/am1355/OneDrive - University of Leicester/Publications/Thesis/ch2/data/study_sites/RGB_images\", projected=True)\n",
    "shp.to_file(\"C:/Users/am1355/OneDrive - University of Leicester/Publications/Thesis/ch2/data/study_sites/RGB_images/wakelyns_trees.gpkg\")"
   ]
  },
  {
   "cell_type": "code",
   "execution_count": null,
   "id": "42308eac-d829-4b94-9c4c-e56a180ce281",
   "metadata": {},
   "outputs": [],
   "source": []
  }
 ],
 "metadata": {
  "kernelspec": {
   "display_name": "Python 3 (ipykernel)",
   "language": "python",
   "name": "python3"
  },
  "language_info": {
   "codemirror_mode": {
    "name": "ipython",
    "version": 3
   },
   "file_extension": ".py",
   "mimetype": "text/x-python",
   "name": "python",
   "nbconvert_exporter": "python",
   "pygments_lexer": "ipython3",
   "version": "3.12.11"
  }
 },
 "nbformat": 4,
 "nbformat_minor": 5
}
